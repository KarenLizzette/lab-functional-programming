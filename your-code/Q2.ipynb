{
 "cells": [
  {
   "cell_type": "markdown",
   "metadata": {},
   "source": [
    "Now we want to enhance the `get_bow_from_docs` function so that it will work with HTML webpages. In HTML, there are a lot of messy codes such as HTML tags, Javascripts, [unicodes](https://www.w3schools.com/charsets/ref_utf_misc_symbols.asp) that will mess up your bag of words. We need to clean up those junk before generating BoW.\n",
    "\n",
    "Next, what you will do is to define several new functions each of which is specialized to clean up the HTML codes in one aspect. For instance, you can have a `strip_html_tags` function to remove all HTML tags, a `remove_punctuation` function to remove all punctuation, a `to_lower_case` function to convert string to lowercase, and a `remove_unicode` function to remove all unicodes.\n",
    "\n",
    "Then in your `get_bow_from_doc` function, you will call each of those functions you created to clean up the HTML before you generate the corpus.\n",
    "\n",
    "Note: Please use Python string operations and regular expression only in this lab. Do not use extra libraries such as `beautifulsoup` because otherwise you loose the purpose of practicing."
   ]
  },
  {
   "cell_type": "code",
   "execution_count": 1,
   "metadata": {},
   "outputs": [],
   "source": [
    "# Define your string handling functions below\n",
    "# Minimal 3 functions\n",
    "\n",
    "import re\n",
    "\n",
    "def strip_html_tags(string):\n",
    "    return re.compile('<.*?>').sub('', string)\n",
    "\n",
    "def remove_punctuation(string):\n",
    "    return re.compile('[^\\w\\s]').sub('', string)\n",
    "\n",
    "def to_lower_case(string):\n",
    "    return string.lower()"
   ]
  },
  {
   "cell_type": "markdown",
   "metadata": {},
   "source": [
    "Next, paste your previously written `get_bow_from_docs` function below. Call your functions above at the appropriate place."
   ]
  },
  {
   "cell_type": "code",
   "execution_count": 6,
   "metadata": {},
   "outputs": [],
   "source": [
    "def get_bow_from_docs(docs, stop_words=[]):\n",
    "    # In the function, first define the variables you will use such as `corpus`, `bag_of_words`, and `term_freq`.\n",
    "    \n",
    "    # Write your codes here\n",
    "    corpus = []\n",
    "    for doc in docs:\n",
    "        corpus.append(open(doc,'r', encoding = \"utf8\").read())\n",
    "    \n",
    "    corpus2 = []\n",
    "    for i in corpus:\n",
    "        corpus2.append(to_lower_case(remove_punctuation(strip_html_tags(i))))\n",
    "        \n",
    "    bag_of_words = []\n",
    "    for i in corpus2:\n",
    "        words = i.split()\n",
    "    for w in words:\n",
    "        if w not in bag_of_words and w not in stop_words:\n",
    "            bag_of_words.append(w)\n",
    "    \n",
    "    term_freq = []\n",
    "    items = []\n",
    "    for i in corpus2:\n",
    "        items.append(i.split())\n",
    "    for i in range(len(items)):\n",
    "        temp = []\n",
    "        for y in bag_of_words:\n",
    "            temp.append(items[i].count(y))\n",
    "        term_freq.append(temp)\n",
    "    \n",
    "    return {\n",
    "        \"bag_of_words\": bag_of_words,\n",
    "        \"term_freq\": term_freq\n",
    "    }\n",
    "    "
   ]
  },
  {
   "cell_type": "markdown",
   "metadata": {},
   "source": [
    "Next, read the content from the three HTML webpages in the `your-codes` directory to test your function."
   ]
  },
  {
   "cell_type": "code",
   "execution_count": 7,
   "metadata": {},
   "outputs": [
    {
     "name": "stdout",
     "output_type": "stream",
     "text": [
      "{'bag_of_words': ['lorem', 'ipsum', 'facts', 'lipsum', 'generator', 'googletagcmdpushfunction', 'googletagdisplaydivgptad14561483161980', '1344137713971381140813811398', 'shqip', '82351575160415931585157616101577nbspnbsp', '104110981083107510721088108910821080', 'catalagrave', '20013259913161620307', 'hrvatski', '268esky', 'dansk', 'nederlands', 'english', 'eesti', 'filipino', 'suomi', 'franccedilais', '4325430443204311432343144312', 'deutsch', '917955955951957953954940', '823515061489151214971514nbspnbsp', '236123672344238123422368', 'magyar', 'indonesia', 'italiano', 'latviski', 'lietuviscaronkai', '1084107210821077107610861085108910821080', 'melayu', 'norsk', 'polski', 'portuguecircs', 'romacircna', 'pycc108210801081', '105710881087108910821080', 'sloven269ina', 'sloven353269ina', 'espantildeol', 'svenska', '365236073618', 'tuumlrkccedile', '1059108210881072111110851089110010821072', 'ti7871ng', 'vi7879t', 'neque', 'porro', 'quisquam', 'est', 'qui', 'dolorem', 'quia', 'dolor', 'sit', 'amet', 'consectetur', 'adipisci', 'velit', 'loves', 'pain', 'seeks', 'wants', 'simply', 'dummy', 'text', 'printing', 'typesetting', 'industry', 'industrys', 'standard', '1500s', 'unknown', 'printer', 'took', 'galley', 'type', 'scrambled', 'make', 'specimen', 'book', 'survived', 'centuries', 'leap', 'electronic', 'remaining', 'essentially', 'unchanged', 'popularised', '1960s', 'release', 'letraset', 'sheets', 'containing', 'passages', 'recently', 'desktop', 'publishing', 'software', 'like', 'aldus', 'pagemaker', 'including', 'versions', 'use', 'long', 'established', 'fact', 'reader', 'distracted', 'readable', 'content', 'page', 'looking', 'layout', 'point', 'using', 'moreorless', 'normal', 'distribution', 'letters', 'opposed', 'making', 'look', 'packages', 'web', 'editors', 'default', 'model', 'search', 'uncover', 'sites', 'infancy', 'various', 'evolved', 'years', 'accident', 'purpose', 'injected', 'humour', 'does', 'come', 'contrary', 'popular', 'belief', 'random', 'roots', 'piece', 'classical', 'latin', 'literature', '45', 'bc', '2000', 'old', 'richard', 'mcclintock', 'professor', 'hampdensydney', 'college', 'virginia', 'looked', 'obscure', 'words', 'passage', 'going', 'cites', 'word', 'discovered', 'undoubtable', 'source', 'comes', 'sections', '11032', '11033', 'finibus', 'bonorum', 'et', 'malorum', 'extremes', 'good', 'evil', 'cicero', 'written', 'treatise', 'theory', 'ethics', 'renaissance', 'line', 'section', '11032the', 'chunk', 'used', 'reproduced', 'interested', 'exact', 'original', 'form', 'accompanied', '1914', 'translation', 'h', 'rackham', 'variations', 'available', 'majority', 'suffered', 'alteration', 'randomised', 'dont', 'slightly', 'believable', 'need', 'sure', 'isnt', 'embarrassing', 'hidden', 'middle', 'generators', 'internet', 'tend', 'repeat', 'predefined', 'chunks', 'necessary', 'true', 'uses', 'dictionary', '200', 'combined', 'handful', 'sentence', 'structures', 'generate', 'looks', 'reasonable', 'generated', 'free', 'repetition', 'noncharacteristic', 'paragraphswordsbyteslistsstart', 'loremipsum', 'translations', 'help', 'translate', 'site', 'foreign', 'language', 'email', 'details', 'set', 'mock', 'banners', 'colours', 'range', 'banner', 'sizes', 'donate', 'regularly', 'consider', 'donating', 'small', 'sum', 'pay', 'hosting', 'bandwidth', 'minimum', 'donation', 'appreciated', 'click', 'paypal', 'thank', 'support', 'chrome', 'firefox', 'addon', 'nodejs', 'tex', 'package', 'python', 'interface', 'gtk', 'rails', 'net', 'groovy', 'adobe', 'plugin', '1500slorem', 'adipiscing', 'elit', 'sed', 'eiusmod', 'tempor', 'incididunt', 'ut', 'labore', 'dolore', 'magna', 'aliqua', 'enim', 'ad', 'minim', 'veniam', 'quis', 'nostrud', 'exercitation', 'ullamco', 'laboris', 'nisi', 'aliquip', 'ex', 'ea', 'commodo', 'consequat', 'duis', 'aute', 'irure', 'reprehenderit', 'voluptate', 'esse', 'cillum', 'eu', 'fugiat', 'nulla', 'pariatur', 'excepteur', 'sint', 'occaecat', 'cupidatat', 'non', 'proident', 'sunt', 'culpa', 'officia', 'deserunt', 'mollit', 'anim', 'id', 'laborumsection', 'bcsed', 'perspiciatis', 'unde', 'omnis', 'iste', 'natus', 'error', 'voluptatem', 'accusantium', 'doloremque', 'laudantium', 'totam', 'rem', 'aperiam', 'eaque', 'ipsa', 'quae', 'ab', 'illo', 'inventore', 'veritatis', 'quasi', 'architecto', 'beatae', 'vitae', 'dicta', 'explicabo', 'nemo', 'ipsam', 'voluptas', 'aspernatur', 'aut', 'odit', 'fugit', 'consequuntur', 'magni', 'dolores', 'eos', 'ratione', 'sequi', 'nesciunt', 'numquam', 'eius', 'modi', 'tempora', 'incidunt', 'magnam', 'aliquam', 'quaerat', 'minima', 'nostrum', 'exercitationem', 'ullam', 'corporis', 'suscipit', 'laboriosam', 'aliquid', 'commodi', 'consequatur', 'autem', 'vel', 'eum', 'iure', 'quam', 'nihil', 'molestiae', 'illum', 'quo', 'explain', 'mistaken', 'idea', 'denouncing', 'pleasure', 'praising', 'born', 'complete', 'account', 'expound', 'actual', 'teachings', 'great', 'explorer', 'truth', 'masterbuilder', 'human', 'happiness', 'rejects', 'dislikes', 'avoids', 'know', 'pursue', 'rationally', 'encounter', 'consequences', 'extremely', 'painful', 'pursues', 'desires', 'obtain', 'occasionally', 'circumstances', 'occur', 'toil', 'procure', 'trivial', 'example', 'undertakes', 'laborious', 'physical', 'exercise', 'advantage', 'right', 'fault', 'man', 'chooses', 'enjoy', 'annoying', 'produces', 'resultant', 'vero', 'accusamus', 'iusto', 'odio', 'dignissimos', 'ducimus', 'blanditiis', 'praesentium', 'voluptatum', 'deleniti', 'atque', 'corrupti', 'quos', 'quas', 'molestias', 'excepturi', 'occaecati', 'cupiditate', 'provident', 'similique', 'mollitia', 'animi', 'laborum', 'dolorum', 'fuga', 'harum', 'quidem', 'rerum', 'facilis', 'expedita', 'distinctio', 'nam', 'libero', 'tempore', 'cum', 'soluta', 'nobis', 'eligendi', 'optio', 'cumque', 'impedit', 'minus', 'quod', 'maxime', 'placeat', 'facere', 'possimus', 'assumenda', 'repellendus', 'temporibus', 'quibusdam', 'officiis', 'debitis', 'necessitatibus', 'saepe', 'eveniet', 'voluptates', 'repudiandae', 'recusandae', 'itaque', 'earum', 'hic', 'tenetur', 'sapiente', 'delectus', 'reiciendis', 'voluptatibus', 'maiores', 'alias', 'perferendis', 'doloribus', 'asperiores', 'repellat', 'hand', 'denounce', 'righteous', 'indignation', 'dislike', 'men', 'beguiled', 'demoralized', 'charms', 'moment', 'blinded', 'desire', 'foresee', 'trouble', 'bound', 'ensue', 'equal', 'blame', 'belongs', 'fail', 'duty', 'weakness', 'saying', 'shrinking', 'cases', 'perfectly', 'simple', 'easy', 'distinguish', 'hour', 'power', 'choice', 'untrammelled', 'prevents', 'able', 'best', 'welcomed', 'avoided', 'certain', 'owing', 'claims', 'obligations', 'business', 'frequently', 'pleasures', 'repudiated', 'annoyances', 'accepted', 'wise', 'holds', 'matters', 'principle', 'selection', 'secure', 'greater', 'endures', 'pains', 'avoid', 'worse', 'googletagdisplaydivgptad14745377621222', 'googletagdisplaydivgptad14745377621223', '104101108112641081051121151171094699111109privacy', 'policy', 'googletagdisplaydivgptad14561483161981'], 'term_freq': [[0, 0, 0, 0, 0, 0, 0, 0, 0, 0, 0, 0, 0, 0, 0, 0, 0, 3, 0, 0, 0, 0, 0, 0, 0, 0, 0, 0, 0, 0, 0, 0, 0, 0, 0, 0, 0, 0, 0, 0, 0, 0, 0, 0, 0, 0, 0, 0, 0, 0, 0, 0, 0, 0, 0, 0, 0, 1, 0, 0, 0, 0, 5, 0, 0, 2, 0, 0, 0, 0, 0, 17, 0, 0, 0, 0, 0, 6, 0, 13, 0, 42, 0, 0, 0, 0, 2, 0, 0, 0, 0, 0, 0, 0, 0, 0, 0, 0, 4, 0, 0, 8, 71, 0, 0, 7, 0, 21, 15, 3, 2, 0, 0, 0, 13, 6, 31, 0, 6, 11, 0, 2, 0, 0, 1, 2, 8, 0, 77, 0, 0, 5, 4, 0, 0, 0, 6, 0, 19, 0, 0, 0, 0, 13, 18, 0, 2, 0, 0, 1, 3, 0, 9, 0, 0, 0, 1, 0, 0, 0, 4, 0, 3, 0, 0, 0, 1, 0, 32, 0, 1, 0, 0, 3, 1, 1, 0, 0, 0, 0, 0, 0, 0, 27, 0, 0, 5, 0, 2, 0, 0, 1, 0, 0, 0, 3, 0, 9, 2, 0, 3, 1, 0, 0, 0, 0, 0, 6, 3, 0, 0, 0, 16, 1, 0, 20, 30, 0, 0, 0, 2, 0, 4, 1, 2, 0, 0, 4, 0, 3, 0, 0, 1, 0, 0, 0, 0, 0, 0, 0, 14, 0, 0, 0, 0, 0, 33, 0, 0, 0, 12, 9, 1, 5, 0, 0, 0, 2, 0, 0, 0, 2, 2, 0, 4, 1, 2, 0, 0, 0, 0, 0, 3, 0, 0, 7, 0, 0, 0, 3, 0, 0, 6, 0, 0, 12, 0, 0, 0, 0, 0, 0, 0, 0, 0, 0, 0, 0, 0, 0, 0, 0, 0, 0, 0, 0, 0, 0, 0, 0, 0, 0, 0, 2, 0, 0, 0, 0, 0, 0, 0, 0, 0, 0, 2, 0, 0, 0, 0, 0, 0, 0, 0, 0, 0, 0, 0, 0, 0, 0, 6, 0, 0, 0, 0, 0, 0, 0, 0, 0, 0, 0, 0, 0, 0, 0, 0, 0, 0, 0, 0, 0, 0, 0, 0, 0, 0, 0, 0, 0, 0, 0, 0, 0, 0, 0, 0, 0, 0, 0, 0, 0, 0, 0, 0, 0, 0, 0, 0, 0, 0, 0, 0, 0, 0, 0, 0, 0, 0, 0, 0, 0, 0, 0, 0, 0, 0, 0, 0, 0, 3, 0, 12, 0, 2, 0, 1, 16, 1, 0, 0, 0, 48, 0, 0, 0, 2, 0, 0, 0, 0, 27, 0, 0, 0, 0, 3, 0, 0, 0, 0, 0, 1, 0, 0, 0, 0, 7, 0, 0, 0, 0, 3, 26, 0, 1, 0, 4, 0, 1, 0, 0, 0, 0, 0, 0, 0, 0, 0, 0, 0, 0, 0, 0, 0, 0, 0, 0, 0, 0, 0, 0, 0, 0, 0, 0, 0, 0, 0, 0, 0, 0, 0, 0, 0, 0, 0, 0, 0, 0, 0, 0, 0, 0, 0, 0, 0, 0, 0, 0, 0, 0, 0, 0, 0, 0, 0, 0, 0, 0, 0, 0, 0, 0, 0, 0, 0, 0, 0, 0, 0, 0, 0, 0, 1, 0, 0, 0, 0, 1, 0, 0, 0, 1, 0, 1, 0, 2, 0, 0, 0, 0, 0, 1, 0, 0, 1, 0, 1, 1, 0, 4, 0, 0, 0, 5, 0, 0, 22, 40, 0, 0, 1, 0, 0, 0, 11, 0, 0, 0, 0, 8, 0, 3, 0, 0, 0, 3, 0, 0, 0, 1, 0, 0, 0, 0, 0, 0], [0, 0, 4, 0, 0, 0, 0, 0, 0, 0, 0, 0, 0, 0, 0, 0, 0, 0, 0, 0, 0, 0, 0, 0, 0, 0, 0, 0, 0, 0, 0, 0, 0, 0, 0, 0, 0, 0, 0, 0, 0, 0, 0, 0, 0, 0, 0, 0, 0, 0, 0, 0, 1, 0, 0, 0, 0, 0, 0, 0, 0, 0, 0, 0, 0, 0, 1, 0, 4, 0, 0, 0, 0, 2, 0, 0, 0, 0, 0, 7, 0, 4, 0, 1, 0, 0, 1, 0, 0, 0, 0, 0, 0, 1, 0, 0, 0, 0, 0, 0, 1, 5, 3, 0, 0, 2, 0, 8, 1, 0, 4, 0, 0, 0, 3, 4, 1, 1, 0, 9, 0, 4, 12, 0, 1, 2, 1, 0, 0, 0, 0, 16, 4, 0, 0, 0, 4, 0, 2, 0, 1, 0, 0, 1, 0, 0, 1, 0, 1, 0, 0, 0, 0, 1, 0, 0, 0, 0, 1, 0, 0, 0, 0, 0, 0, 0, 2, 0, 0, 0, 0, 0, 0, 1, 0, 0, 0, 0, 0, 0, 0, 0, 0, 1, 0, 0, 0, 0, 3, 0, 0, 5, 2, 0, 0, 23, 0, 0, 2, 3, 0, 0, 0, 0, 0, 0, 0, 2, 0, 0, 0, 0, 0, 0, 0, 2, 0, 0, 0, 0, 0, 0, 1, 1, 0, 0, 0, 9, 2, 4, 0, 0, 1, 0, 0, 1, 1, 0, 0, 2, 4, 0, 0, 0, 0, 0, 10, 0, 1, 0, 1, 1, 0, 25, 0, 0, 0, 6, 0, 0, 0, 0, 2, 0, 4, 1, 0, 0, 0, 0, 0, 0, 0, 0, 0, 4, 0, 0, 0, 0, 0, 0, 2, 0, 0, 0, 0, 0, 0, 0, 0, 0, 0, 0, 0, 0, 0, 0, 0, 0, 0, 0, 0, 0, 0, 0, 0, 0, 0, 0, 0, 0, 0, 0, 0, 0, 0, 0, 0, 0, 0, 0, 0, 0, 0, 0, 0, 0, 0, 0, 0, 0, 0, 0, 0, 0, 0, 0, 0, 0, 1, 0, 0, 0, 0, 0, 0, 0, 6, 0, 0, 0, 0, 0, 0, 0, 0, 0, 0, 0, 0, 0, 0, 0, 0, 0, 0, 0, 0, 0, 0, 0, 0, 0, 0, 0, 0, 0, 0, 0, 0, 0, 0, 0, 0, 0, 0, 0, 0, 0, 0, 0, 0, 0, 0, 0, 0, 0, 0, 0, 0, 0, 0, 0, 0, 0, 0, 0, 0, 0, 1, 0, 0, 0, 0, 0, 0, 0, 1, 0, 2, 0, 0, 0, 0, 0, 1, 0, 0, 0, 0, 0, 0, 0, 0, 0, 0, 0, 0, 0, 3, 0, 0, 0, 0, 0, 0, 12, 0, 0, 0, 0, 0, 2, 0, 0, 0, 0, 0, 0, 0, 0, 0, 0, 0, 0, 0, 0, 0, 0, 0, 0, 0, 0, 0, 0, 0, 0, 0, 0, 0, 0, 0, 0, 0, 0, 0, 0, 0, 0, 0, 0, 0, 0, 0, 0, 0, 0, 0, 0, 0, 0, 0, 0, 0, 0, 0, 0, 0, 0, 0, 0, 0, 0, 0, 0, 0, 0, 0, 0, 0, 0, 0, 0, 0, 0, 0, 0, 0, 0, 0, 0, 0, 0, 3, 0, 0, 0, 0, 0, 0, 0, 0, 0, 0, 0, 0, 0, 0, 0, 0, 0, 0, 0, 0, 0, 0, 0, 27, 0, 1, 0, 0, 0, 0, 1, 0, 0, 2, 1, 0, 0, 3, 0, 0, 0, 9, 0, 0, 0, 0, 0, 0, 0, 0, 2, 1, 0, 0, 0, 0, 0, 0, 0, 0, 0, 3, 0], [22, 25, 1, 2, 2, 4, 1, 1, 1, 1, 1, 1, 1, 1, 1, 1, 1, 3, 1, 1, 1, 1, 1, 1, 1, 1, 1, 1, 1, 1, 1, 1, 1, 1, 1, 1, 1, 1, 1, 1, 1, 1, 1, 1, 1, 1, 1, 1, 1, 2, 2, 2, 7, 8, 3, 5, 7, 7, 5, 4, 2, 4, 2, 10, 1, 1, 3, 2, 5, 1, 2, 1, 1, 4, 2, 1, 1, 1, 1, 2, 1, 1, 1, 2, 1, 1, 1, 1, 1, 1, 1, 1, 1, 1, 1, 1, 1, 2, 1, 2, 2, 1, 5, 1, 1, 1, 3, 4, 1, 1, 1, 1, 1, 2, 3, 2, 1, 1, 1, 3, 1, 1, 1, 1, 1, 3, 2, 1, 2, 1, 1, 2, 1, 1, 1, 1, 1, 1, 2, 1, 1, 3, 3, 1, 1, 1, 2, 1, 1, 1, 1, 2, 4, 2, 4, 3, 1, 1, 1, 1, 1, 1, 1, 1, 1, 1, 4, 3, 2, 1, 1, 1, 1, 1, 2, 2, 3, 3, 4, 4, 16, 4, 1, 1, 1, 4, 3, 1, 1, 1, 1, 2, 2, 1, 1, 2, 2, 1, 1, 1, 2, 1, 3, 3, 3, 3, 1, 2, 1, 1, 1, 1, 1, 1, 1, 1, 1, 1, 1, 1, 1, 1, 3, 1, 1, 1, 1, 1, 1, 1, 1, 1, 1, 1, 1, 1, 1, 1, 1, 1, 2, 1, 1, 1, 1, 1, 4, 1, 3, 1, 1, 1, 1, 1, 1, 1, 1, 1, 1, 1, 2, 1, 1, 1, 1, 2, 1, 1, 1, 1, 1, 1, 1, 1, 1, 1, 1, 1, 1, 1, 1, 1, 1, 1, 1, 1, 1, 1, 1, 1, 1, 1, 1, 3, 1, 1, 1, 9, 2, 3, 1, 1, 3, 2, 1, 2, 3, 1, 1, 1, 1, 2, 1, 2, 3, 1, 1, 1, 1, 1, 2, 2, 2, 1, 1, 2, 2, 2, 1, 3, 1, 1, 4, 1, 3, 2, 2, 2, 1, 1, 3, 1, 1, 1, 1, 3, 1, 1, 1, 4, 1, 1, 1, 1, 1, 1, 1, 1, 1, 1, 1, 1, 1, 1, 1, 1, 1, 1, 1, 1, 1, 3, 1, 6, 1, 1, 1, 1, 2, 2, 1, 1, 1, 1, 1, 1, 1, 1, 1, 1, 1, 1, 1, 1, 1, 1, 1, 1, 1, 1, 3, 2, 2, 2, 1, 1, 2, 2, 1, 2, 1, 1, 1, 1, 9, 1, 1, 1, 1, 1, 1, 1, 2, 1, 1, 1, 1, 1, 2, 1, 2, 1, 1, 1, 1, 2, 1, 1, 1, 1, 2, 1, 2, 2, 2, 1, 1, 1, 1, 1, 1, 1, 1, 1, 1, 2, 1, 1, 1, 1, 1, 1, 1, 1, 1, 1, 1, 1, 1, 1, 1, 1, 1, 1, 1, 1, 1, 1, 1, 1, 1, 1, 1, 1, 1, 1, 1, 1, 3, 1, 1, 1, 1, 1, 1, 1, 1, 1, 1, 1, 1, 1, 1, 1, 1, 1, 1, 1, 1, 1, 1, 1, 1, 1, 1, 1, 1, 1, 1, 1, 1, 1, 1, 1, 1, 1, 1, 1, 1, 1, 1, 1, 1, 1, 1, 1, 1, 1, 1, 1, 1, 1, 1, 1, 1, 1, 1, 1, 1, 1, 1, 1, 1, 1, 2, 1, 1, 1, 1, 1, 1, 1, 1, 1, 1, 1, 1, 1, 1, 1, 1, 1, 1, 1, 1, 1, 1, 1, 3, 1, 1, 1, 1, 1, 1, 1, 1, 1, 1, 1, 2, 1, 1, 1, 1, 1, 1, 1]]}\n"
     ]
    }
   ],
   "source": [
    "from sklearn.feature_extraction import stop_words\n",
    "bow = get_bow_from_docs([\n",
    "        'www.coursereport.com_ironhack.html',\n",
    "        'en.wikipedia.org_Data_analysis.html',\n",
    "        'www.lipsum.com.html'],\n",
    "    stop_words.ENGLISH_STOP_WORDS\n",
    ")\n",
    "\n",
    "print(bow)"
   ]
  },
  {
   "cell_type": "markdown",
   "metadata": {},
   "source": [
    "Do you see any problem in the output? How do you improve the output?\n",
    "\n",
    "A good way to improve your codes is to look into the HTML data sources and try to understand where the messy output came from. A good data analyst always learns about the data in depth in order to perform the job well.\n",
    "\n",
    "Spend 20-30 minutes to improve your functions or until you feel you are good at string operations. This lab is just a practice so you don't need to stress yourself out. If you feel you've practiced enough you can stop and move on the next challenge question."
   ]
  },
  {
   "cell_type": "code",
   "execution_count": null,
   "metadata": {},
   "outputs": [],
   "source": []
  }
 ],
 "metadata": {
  "kernelspec": {
   "display_name": "Python 3",
   "language": "python",
   "name": "python3"
  },
  "language_info": {
   "codemirror_mode": {
    "name": "ipython",
    "version": 3
   },
   "file_extension": ".py",
   "mimetype": "text/x-python",
   "name": "python",
   "nbconvert_exporter": "python",
   "pygments_lexer": "ipython3",
   "version": "3.7.4"
  }
 },
 "nbformat": 4,
 "nbformat_minor": 2
}
