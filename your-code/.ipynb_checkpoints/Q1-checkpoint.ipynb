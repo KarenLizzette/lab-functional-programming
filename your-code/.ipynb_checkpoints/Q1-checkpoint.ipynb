{
 "cells": [
  {
   "cell_type": "markdown",
   "metadata": {},
   "source": [
    "In the cell below, create a Python function that wraps your previous solution for the Bag of Words lab.\n",
    "\n",
    "Requirements:\n",
    "\n",
    "1. Your function should accept the following parameters:\n",
    "    * `docs` [REQUIRED] - array of document paths.\n",
    "    * `stop_words` [OPTIONAL] - array of stop words. The default value is an empty array.\n",
    "\n",
    "1. Your function should return a Python object that contains the following:\n",
    "    * `bag_of_words` - array of strings of normalized unique words in the corpus.\n",
    "    * `term_freq` - array of the term-frequency vectors."
   ]
  },
  {
   "cell_type": "code",
   "execution_count": 3,
   "metadata": {},
   "outputs": [
    {
     "ename": "IndentationError",
     "evalue": "unexpected indent (<ipython-input-3-28f22309d6e6>, line 18)",
     "output_type": "error",
     "traceback": [
      "\u001b[1;36m  File \u001b[1;32m\"<ipython-input-3-28f22309d6e6>\"\u001b[1;36m, line \u001b[1;32m18\u001b[0m\n\u001b[1;33m    for doc in docs:\u001b[0m\n\u001b[1;37m    ^\u001b[0m\n\u001b[1;31mIndentationError\u001b[0m\u001b[1;31m:\u001b[0m unexpected indent\n"
     ]
    }
   ],
   "source": [
    "# Import required libraries\n",
    "\n",
    "import os\n",
    "import re\n",
    "\n",
    "# Define function\n",
    "def get_bow_from_docs(docs, stop_words=[]):\n",
    "    \n",
    "    # In the function, first define the variables you will use such as `corpus`, `bag_of_words`, and `term_freq`.\n",
    "    \n",
    "    \n",
    "    \n",
    "    \"\"\"\n",
    "    Loop `docs` and read the content of each doc into a string in `corpus`.\n",
    "    Remember to convert the doc content to lowercases and remove punctuation.\n",
    "    \"\"\"\n",
    "corpus = []\n",
    "    for doc in docs:\n",
    "        corpus.append(open(doc,'r').read())\n",
    "    \n",
    "corpus2 = []\n",
    "    for i in corpus:\n",
    "        corpus2.append(i.lower().replace(\".\",\"\"))\n",
    "    \n",
    "    \"\"\"\n",
    "    Loop `corpus`. Append the terms in each doc into the `bag_of_words` array. The terms in `bag_of_words` \n",
    "    should be unique which means before adding each term you need to check if it's already added to the array.\n",
    "    In addition, check if each term is in the `stop_words` array. Only append the term to `bag_of_words`\n",
    "    if it is not a stop word.\n",
    "    \"\"\"\n",
    "\n",
    "bag_of_words = []\n",
    "    for i in corpus2:\n",
    "        words = i.split()\n",
    "        for w in words:\n",
    "            if w not in bag_of_words:\n",
    "                bag_of_words.append(w)\n",
    "    \n",
    "    \"\"\"\n",
    "    Loop `corpus` again. For each doc string, count the number of occurrences of each term in `bag_of_words`. \n",
    "    Create an array for each doc's term frequency and append it to `term_freq`.\n",
    "    \"\"\"\n",
    "term_freq = []\n",
    "items = []\n",
    "    for i in corpus2:\n",
    "        items.append(i.split())\n",
    "    for i in range(len(items)):\n",
    "        temp = []\n",
    "        for y in bag_of_words:\n",
    "            temp.append(items[i].count(y))\n",
    "        term_freq.append(temp)\n",
    "    \n",
    "    # Now return your output as an object\n",
    "    return {\n",
    "        \"bag_of_words\": bag_of_words,\n",
    "        \"term_freq\": term_freq\n",
    "    }\n",
    "    "
   ]
  },
  {
   "cell_type": "markdown",
   "metadata": {},
   "source": [
    "Test your function without stop words. You should see the output like below:\n",
    "\n",
    "```{'bag_of_words': ['ironhack', 'is', 'cool', 'i', 'love', 'am', 'a', 'student', 'at'], 'term_freq': [[1, 1, 1, 0, 0, 0, 0, 0, 0], [1, 0, 0, 1, 1, 0, 0, 0, 0], [1, 0, 0, 1, 0, 1, 1, 1, 1]]}```"
   ]
  },
  {
   "cell_type": "code",
   "execution_count": 1,
   "metadata": {},
   "outputs": [
    {
     "ename": "NameError",
     "evalue": "name 'get_bow_from_docs' is not defined",
     "output_type": "error",
     "traceback": [
      "\u001b[1;31m---------------------------------------------------------------------------\u001b[0m",
      "\u001b[1;31mNameError\u001b[0m                                 Traceback (most recent call last)",
      "\u001b[1;32m<ipython-input-1-58124f03d423>\u001b[0m in \u001b[0;36m<module>\u001b[1;34m\u001b[0m\n\u001b[0;32m      3\u001b[0m \u001b[1;33m\u001b[0m\u001b[0m\n\u001b[0;32m      4\u001b[0m \u001b[1;31m# Obtain BoW from your function\u001b[0m\u001b[1;33m\u001b[0m\u001b[1;33m\u001b[0m\u001b[1;33m\u001b[0m\u001b[0m\n\u001b[1;32m----> 5\u001b[1;33m \u001b[0mbow\u001b[0m \u001b[1;33m=\u001b[0m \u001b[0mget_bow_from_docs\u001b[0m\u001b[1;33m(\u001b[0m\u001b[0mdocs\u001b[0m\u001b[1;33m)\u001b[0m\u001b[1;33m\u001b[0m\u001b[1;33m\u001b[0m\u001b[0m\n\u001b[0m\u001b[0;32m      6\u001b[0m \u001b[1;33m\u001b[0m\u001b[0m\n\u001b[0;32m      7\u001b[0m \u001b[1;31m# Print BoW\u001b[0m\u001b[1;33m\u001b[0m\u001b[1;33m\u001b[0m\u001b[1;33m\u001b[0m\u001b[0m\n",
      "\u001b[1;31mNameError\u001b[0m: name 'get_bow_from_docs' is not defined"
     ]
    }
   ],
   "source": [
    "# Define doc paths array\n",
    "docs = []\n",
    "\n",
    "# Obtain BoW from your function\n",
    "bow = get_bow_from_docs(docs)\n",
    "\n",
    "# Print BoW\n",
    "print(bow)"
   ]
  },
  {
   "cell_type": "markdown",
   "metadata": {},
   "source": [
    "If your attempt above is successful, nice work done!\n",
    "\n",
    "Now test your function again with the stop words. In the previous lab we defined the stop words in a large array. In this lab, we'll import the stop words from Scikit-Learn."
   ]
  },
  {
   "cell_type": "code",
   "execution_count": 4,
   "metadata": {},
   "outputs": [
    {
     "name": "stdout",
     "output_type": "stream",
     "text": [
      "frozenset({'his', 'other', 'what', 'mine', 'hereafter', 'around', 'her', 'towards', 'un', 'ltd', 'be', 'hers', 'each', 'forty', 'as', 'into', 'are', 'become', 'ten', 'all', 'latterly', 'in', 'go', 'such', 'nothing', 'could', 'couldnt', 'too', 'see', 'hereupon', 'thick', 'four', 'through', 'never', 'off', 'whoever', 'at', 'everything', 'them', 'my', 'five', 'twelve', 'until', 'here', 'latter', 'often', 'whereupon', 'thereafter', 'fifteen', 'was', 'had', 'therein', 'meanwhile', 'due', 'someone', 'most', 'seeming', 'alone', 'wherein', 'namely', 'before', 'against', 'third', 'indeed', 'upon', 'toward', 'your', 'hundred', 'amoungst', 'behind', 'then', 'somewhere', 'sixty', 'out', 'find', 'cry', 'well', 'it', 'two', 'something', 'but', 'though', 'get', 'empty', 'whither', 'neither', 'whole', 'six', 'because', 'inc', 'yet', 'either', 'which', 'myself', 'former', 'everyone', 'am', 'except', 'con', 'can', 'how', 'themselves', 'must', 'somehow', 'elsewhere', 'more', 'becoming', 'afterwards', 'within', 'is', 'made', 'ever', 'sometimes', 'much', 'move', 'sometime', 'any', 'she', 'detail', 'almost', 'some', 'ie', 'amount', 'along', 'eleven', 'they', 'found', 'nevertheless', 'hence', 'on', 'nor', 'cannot', 'de', 'again', 'been', 'still', 'name', 'part', 'seems', 'mill', 'himself', 'might', 'only', 'down', 'together', 'between', 'beyond', 'there', 'own', 'he', 'else', 'thereupon', 'therefore', 'wherever', 'those', 'give', 'by', 'moreover', 'us', 'whether', 'also', 'became', 'across', 'of', 'that', 'amongst', 'last', 'first', 'thus', 'anywhere', 'besides', 'describe', 'with', 'this', 'since', 'always', 'we', 'who', 'the', 'call', 'whatever', 'rather', 'top', 'whereby', 'next', 'others', 'a', 'noone', 'for', 'both', 'when', 'thereby', 'anyway', 'up', 'ourselves', 'where', 'its', 'yours', 'me', 'after', 'herself', 'eg', 'same', 'not', 'take', 'being', 'ours', 'has', 'seem', 'becomes', 'and', 'everywhere', 'fill', 'under', 'least', 'however', 'whence', 'further', 'thence', 'among', 'enough', 'serious', 'whenever', 'if', 'onto', 'from', 'three', 'once', 'none', 'mostly', 'very', 'sincere', 'cant', 'per', 'etc', 'fire', 'beside', 'yourself', 'keep', 'co', 'formerly', 'put', 'thru', 'nine', 'yourselves', 'bill', 'may', 'seemed', 'although', 'side', 'hasnt', 'should', 'less', 'front', 'anything', 'these', 'thin', 'during', 'few', 'nowhere', 'over', 'or', 'above', 'every', 'beforehand', 'already', 'hereby', 'their', 'whose', 'please', 'several', 'now', 'eight', 'perhaps', 'do', 'fifty', 'about', 'anyone', 'bottom', 'so', 'system', 'throughout', 'done', 'our', 'than', 'will', 'otherwise', 'even', 'no', 'via', 'itself', 'you', 'i', 'back', 'another', 'would', 'why', 'him', 'while', 'many', 'one', 'whereafter', 'anyhow', 'show', 'an', 're', 'to', 'full', 'herein', 'whereas', 'without', 'twenty', 'whom', 'below', 'nobody', 'were', 'have', 'interest'})\n"
     ]
    }
   ],
   "source": [
    "from sklearn.feature_extraction import stop_words\n",
    "print(stop_words.ENGLISH_STOP_WORDS)"
   ]
  },
  {
   "cell_type": "markdown",
   "metadata": {},
   "source": [
    "You should have seen a large list of words that looks like:\n",
    "\n",
    "```frozenset({'across', 'mine', 'cannot', ...})```\n",
    "\n",
    "`frozenset` is a type of Python object that is immutable. In this lab you can use it just like an array without conversion."
   ]
  },
  {
   "cell_type": "markdown",
   "metadata": {},
   "source": [
    "Next, test your function with supplying `stop_words.ENGLISH_STOP_WORDS` as the second parameter."
   ]
  },
  {
   "cell_type": "code",
   "execution_count": null,
   "metadata": {},
   "outputs": [],
   "source": [
    "bow = get_bow_from_docs(bow, stop_words.ENGLISH_STOP_WORDS)\n",
    "\n",
    "print(bow)"
   ]
  },
  {
   "cell_type": "markdown",
   "metadata": {},
   "source": [
    "You should have seen:\n",
    "\n",
    "```{'bag_of_words': ['ironhack', 'cool', 'love', 'student'], 'term_freq': [[1, 1, 0, 0], [1, 0, 1, 0], [1, 0, 0, 1]]}```"
   ]
  },
  {
   "cell_type": "code",
   "execution_count": null,
   "metadata": {},
   "outputs": [],
   "source": []
  }
 ],
 "metadata": {
  "kernelspec": {
   "display_name": "Python 3",
   "language": "python",
   "name": "python3"
  },
  "language_info": {
   "codemirror_mode": {
    "name": "ipython",
    "version": 3
   },
   "file_extension": ".py",
   "mimetype": "text/x-python",
   "name": "python",
   "nbconvert_exporter": "python",
   "pygments_lexer": "ipython3",
   "version": "3.7.4"
  }
 },
 "nbformat": 4,
 "nbformat_minor": 2
}
